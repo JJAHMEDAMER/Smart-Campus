{
 "cells": [
  {
   "cell_type": "markdown",
   "id": "08f77ac1-f36c-4c1e-8e40-170162e71112",
   "metadata": {},
   "source": [
    "# Test Capture Image"
   ]
  },
  {
   "cell_type": "code",
   "execution_count": null,
   "id": "fbfcfcd6-5dd7-4a84-b59b-5a652812025a",
   "metadata": {},
   "outputs": [],
   "source": [
    "import cv2"
   ]
  },
  {
   "cell_type": "code",
   "execution_count": null,
   "id": "25171d43-f85b-4b18-b988-bb76cc79fae2",
   "metadata": {},
   "outputs": [],
   "source": [
    "# Video Stream\n",
    "cam = cv2.VideoCapture(0)\n",
    "while True:\n",
    "    ret, frame = cam.read()\n",
    "    cv2.imshow('frame_jnb', frame)\n",
    "    \n",
    "    if cv2.waitKey(1) == ord(\"q\"): # press q to close\n",
    "        break\n",
    "    \n",
    "cam.release\n",
    "cv2.destroyAllWindows()"
   ]
  },
  {
   "cell_type": "markdown",
   "id": "85b894b2-54cc-4a7e-b775-ea1ea4d9aed7",
   "metadata": {},
   "source": [
    "# Capture images for training"
   ]
  },
  {
   "cell_type": "code",
   "execution_count": null,
   "id": "99b1db83-9992-479b-a9d3-df349a600fe0",
   "metadata": {},
   "outputs": [],
   "source": [
    "import cv2\n",
    "import os\n",
    "from time import sleep\n",
    "from uuid import uuid1"
   ]
  },
  {
   "cell_type": "code",
   "execution_count": null,
   "id": "510fadc4-7521-47d4-a3ba-af60aeb7f596",
   "metadata": {},
   "outputs": [],
   "source": [
    "IMAGES_PATH = os.path.join('data','images')\n",
    "number_images = 10\n",
    "\n",
    "cam = cv2.VideoCapture(0)\n",
    "\n",
    "for imgnum in range(number_images):\n",
    "    print(f'Collecting image {imgnum}')\n",
    "    ret, frame = cam.read()\n",
    "    imgname = os.path.join(IMAGES_PATH,f'{str(uuid1())}.jpg')\n",
    "    cv2.imwrite(imgname, frame)\n",
    "    cv2.imshow('frame', frame)\n",
    "    sleep(0.5)\n",
    "\n",
    "    if cv2.waitKey(1) & 0xFF == ord('q'):\n",
    "        break\n",
    "\n",
    "cam.release()\n",
    "cv2.destroyAllWindows()"
   ]
  },
  {
   "cell_type": "markdown",
   "id": "56014db1-df16-4cff-81e3-a26bb3272090",
   "metadata": {},
   "source": [
    "# Load Online Images and give uuid"
   ]
  },
  {
   "cell_type": "code",
   "execution_count": null,
   "id": "3f07a486-2efe-4367-8e8f-4bc14c428762",
   "metadata": {},
   "outputs": [],
   "source": [
    "import os\n",
    "from uuid import uuid1\n",
    "\n",
    "IMAGES_PATH = os.path.join('data','online-images')\n",
    "online_images_list = os.listdir(IMAGES_PATH)\n",
    "\n",
    "for i in range(len(online_images_list)):\n",
    "    imgNam , ext = os.path.splitext(online_images_list[i])  # return .txt not txt\n",
    "    if not ext in [\".jpg\", \".jpeg\", \".png\"]:\n",
    "        os.remove(os.path.join(IMAGES_PATH, online_images_list[i]))\n",
    "        online_images_list.remove(online_images_list[i])\n",
    "    else:\n",
    "        os.rename(os.path.join(IMAGES_PATH, online_images_list[i]), os.path.join(IMAGES_PATH, f\"{uuid1()}\"+ext))\n",
    "        \n",
    "online_images_list"
   ]
  },
  {
   "cell_type": "code",
   "execution_count": null,
   "id": "d8568920-1ae8-44e5-9b7e-14b25600941d",
   "metadata": {},
   "outputs": [],
   "source": []
  },
  {
   "cell_type": "code",
   "execution_count": null,
   "id": "0902cee8-5939-4fb4-839d-ba1b978356ab",
   "metadata": {},
   "outputs": [],
   "source": []
  }
 ],
 "metadata": {
  "kernelspec": {
   "display_name": "envpy310",
   "language": "python",
   "name": "python3"
  },
  "language_info": {
   "codemirror_mode": {
    "name": "ipython",
    "version": 3
   },
   "file_extension": ".py",
   "mimetype": "text/x-python",
   "name": "python",
   "nbconvert_exporter": "python",
   "pygments_lexer": "ipython3",
   "version": "3.10.6 (tags/v3.10.6:9c7b4bd, Aug  1 2022, 21:53:49) [MSC v.1932 64 bit (AMD64)]"
  },
  "vscode": {
   "interpreter": {
    "hash": "b90d5af78b26c3d366590533388adec5c75c90531be2d29ca4cf287748e854c7"
   }
  }
 },
 "nbformat": 4,
 "nbformat_minor": 5
}
