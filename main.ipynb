{
 "cells": [
  {
   "cell_type": "markdown",
   "id": "08f77ac1-f36c-4c1e-8e40-170162e71112",
   "metadata": {},
   "source": [
    "# Test Capture Image"
   ]
  },
  {
   "cell_type": "code",
   "execution_count": 1,
   "id": "fbfcfcd6-5dd7-4a84-b59b-5a652812025a",
   "metadata": {},
   "outputs": [],
   "source": [
    "import cv2"
   ]
  },
  {
   "cell_type": "code",
   "execution_count": null,
   "id": "25171d43-f85b-4b18-b988-bb76cc79fae2",
   "metadata": {},
   "outputs": [],
   "source": [
    "# Video Stream\n",
    "cam = cv2.VideoCapture(0)\n",
    "while True:\n",
    "    ret, frame = cam.read()\n",
    "    cv2.imshow('frame', frame)\n",
    "    \n",
    "    if cv2.waitKey(1) == 32: # Space Bar to close\n",
    "        break\n",
    "    \n",
    "cam.release\n",
    "cv2.destroyAllWindows()"
   ]
  },
  {
   "cell_type": "code",
   "execution_count": null,
   "id": "84677f5c-967f-49c1-85e6-5f01edba67f1",
   "metadata": {},
   "outputs": [],
   "source": []
  }
 ],
 "metadata": {
  "kernelspec": {
   "display_name": "Python 3 (ipykernel)",
   "language": "python",
   "name": "python3"
  },
  "language_info": {
   "codemirror_mode": {
    "name": "ipython",
    "version": 3
   },
   "file_extension": ".py",
   "mimetype": "text/x-python",
   "name": "python",
   "nbconvert_exporter": "python",
   "pygments_lexer": "ipython3",
   "version": "3.10.6"
  }
 },
 "nbformat": 4,
 "nbformat_minor": 5
}
