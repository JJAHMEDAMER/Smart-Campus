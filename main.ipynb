{
 "cells": [
  {
   "cell_type": "markdown",
   "id": "08f77ac1-f36c-4c1e-8e40-170162e71112",
   "metadata": {},
   "source": [
    "# Test Capture Image"
   ]
  },
  {
   "cell_type": "code",
   "execution_count": 1,
   "id": "fbfcfcd6-5dd7-4a84-b59b-5a652812025a",
   "metadata": {},
   "outputs": [],
   "source": [
    "import cv2"
   ]
  },
  {
   "cell_type": "code",
   "execution_count": null,
   "id": "25171d43-f85b-4b18-b988-bb76cc79fae2",
   "metadata": {},
   "outputs": [],
   "source": [
    "# Video Stream\n",
    "cam = cv2.VideoCapture(0)\n",
    "while True:\n",
    "    ret, frame = cam.read()\n",
    "    cv2.imshow('frame_jnb', frame)\n",
    "    \n",
    "    if cv2.waitKey(1) == ord(\"q\"): # press q to close\n",
    "        break\n",
    "    \n",
    "cam.release\n",
    "cv2.destroyAllWindows()"
   ]
  },
  {
   "cell_type": "markdown",
   "id": "85b894b2-54cc-4a7e-b775-ea1ea4d9aed7",
   "metadata": {},
   "source": [
    "# Capture images for training"
   ]
  },
  {
   "cell_type": "code",
   "execution_count": 1,
   "id": "99b1db83-9992-479b-a9d3-df349a600fe0",
   "metadata": {},
   "outputs": [],
   "source": [
    "import cv2\n",
    "import os\n",
    "from time import sleep\n",
    "from uuid import uuid1"
   ]
  },
  {
   "cell_type": "code",
   "execution_count": 2,
   "id": "510fadc4-7521-47d4-a3ba-af60aeb7f596",
   "metadata": {},
   "outputs": [
    {
     "name": "stdout",
     "output_type": "stream",
     "text": [
      "Collecting image 0\n",
      "Collecting image 1\n",
      "Collecting image 2\n",
      "Collecting image 3\n",
      "Collecting image 4\n",
      "Collecting image 5\n",
      "Collecting image 6\n",
      "Collecting image 7\n",
      "Collecting image 8\n",
      "Collecting image 9\n"
     ]
    }
   ],
   "source": [
    "IMAGES_PATH = os.path.join('data','images')\n",
    "number_images = 10\n",
    "\n",
    "cam = cv2.VideoCapture(0)\n",
    "\n",
    "for imgnum in range(number_images):\n",
    "    print(f'Collecting image {imgnum}')\n",
    "    ret, frame = cam.read()\n",
    "    imgname = os.path.join(IMAGES_PATH,f'{str(uuid1())}.jpg')\n",
    "    cv2.imwrite(imgname, frame)\n",
    "    cv2.imshow('frame', frame)\n",
    "    sleep(0.5)\n",
    "\n",
    "    if cv2.waitKey(1) & 0xFF == ord('q'):\n",
    "        break\n",
    "\n",
    "cam.release()\n",
    "cv2.destroyAllWindows()"
   ]
  },
  {
   "cell_type": "code",
   "execution_count": null,
   "id": "0ee70c43-f981-443a-bae3-353892128e01",
   "metadata": {},
   "outputs": [],
   "source": []
  }
 ],
 "metadata": {
  "kernelspec": {
   "display_name": "Python 3 (ipykernel)",
   "language": "python",
   "name": "python3"
  },
  "language_info": {
   "codemirror_mode": {
    "name": "ipython",
    "version": 3
   },
   "file_extension": ".py",
   "mimetype": "text/x-python",
   "name": "python",
   "nbconvert_exporter": "python",
   "pygments_lexer": "ipython3",
   "version": "3.10.6"
  }
 },
 "nbformat": 4,
 "nbformat_minor": 5
}
